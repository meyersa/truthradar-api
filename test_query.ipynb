{
 "cells": [
  {
   "cell_type": "code",
   "execution_count": 3,
   "id": "e795178f",
   "metadata": {},
   "outputs": [
    {
     "name": "stdout",
     "output_type": "stream",
     "text": [
      "Status: 200\n",
      "Response: {'predictions': [{'name': 'BernoulliNB', 'score': 0.9004633486166935}, {'name': 'LogisticRegression', 'score': 0.660553220029004}, {'name': 'XGBoost', 'score': 0.7203407287597656}], 'duration_ms': 9.96}\n"
     ]
    }
   ],
   "source": [
    "import requests\n",
    "import os\n",
    "\n",
    "API_URL = \"http://localhost:8001/predict\"\n",
    "# API_KEY = \"\"\n",
    "\n",
    "# Sample input text\n",
    "payload = {\n",
    "    \"text\": \"The sky is green today\"\n",
    "}\n",
    "\n",
    "# Headers with API key\n",
    "headers = {\n",
    "    \"Content-Type\": \"application/json\",\n",
    "    # \"X-API-Key\": API_KEY\n",
    "}\n",
    "\n",
    "# Send request\n",
    "response = requests.post(API_URL, json=payload, headers=headers)\n",
    "\n",
    "# Show result\n",
    "print(\"Status:\", response.status_code)\n",
    "print(\"Response:\", response.json())"
   ]
  }
 ],
 "metadata": {
  "kernelspec": {
   "display_name": ".venv",
   "language": "python",
   "name": "python3"
  },
  "language_info": {
   "codemirror_mode": {
    "name": "ipython",
    "version": 3
   },
   "file_extension": ".py",
   "mimetype": "text/x-python",
   "name": "python",
   "nbconvert_exporter": "python",
   "pygments_lexer": "ipython3",
   "version": "3.9.13"
  }
 },
 "nbformat": 4,
 "nbformat_minor": 5
}
